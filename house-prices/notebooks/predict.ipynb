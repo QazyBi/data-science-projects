{
 "cells": [
  {
   "cell_type": "markdown",
   "metadata": {},
   "source": [
    "# Predict house prices"
   ]
  },
  {
   "cell_type": "code",
   "execution_count": 1,
   "metadata": {
    "collapsed": true,
    "jupyter": {
     "outputs_hidden": true,
     "source_hidden": true
    },
    "tags": []
   },
   "outputs": [
    {
     "name": "stdout",
     "output_type": "stream",
     "text": [
      "Requirement already satisfied: catboost in /home/qazybek/miniconda3/envs/ds/lib/python3.8/site-packages (0.25.1)\n",
      "Requirement already satisfied: six in /home/qazybek/.local/lib/python3.8/site-packages (from catboost) (1.15.0)\n",
      "Requirement already satisfied: pandas>=0.24.0 in /home/qazybek/.local/lib/python3.8/site-packages (from catboost) (1.1.1)\n",
      "Requirement already satisfied: graphviz in /home/qazybek/miniconda3/envs/ds/lib/python3.8/site-packages (from catboost) (0.16)\n",
      "Requirement already satisfied: matplotlib in /home/qazybek/.local/lib/python3.8/site-packages (from catboost) (3.3.2)\n",
      "Requirement already satisfied: plotly in /home/qazybek/miniconda3/envs/ds/lib/python3.8/site-packages (from catboost) (4.14.3)\n",
      "Requirement already satisfied: numpy>=1.16.0 in /home/qazybek/.local/lib/python3.8/site-packages (from catboost) (1.20.2)\n",
      "Requirement already satisfied: scipy in /home/qazybek/.local/lib/python3.8/site-packages (from catboost) (1.4.1)\n",
      "Requirement already satisfied: pytz>=2017.2 in /home/qazybek/miniconda3/envs/ds/lib/python3.8/site-packages (from pandas>=0.24.0->catboost) (2021.1)\n",
      "Requirement already satisfied: python-dateutil>=2.7.3 in /home/qazybek/.local/lib/python3.8/site-packages (from pandas>=0.24.0->catboost) (2.8.1)\n",
      "Requirement already satisfied: pyparsing!=2.0.4,!=2.1.2,!=2.1.6,>=2.0.3 in /home/qazybek/.local/lib/python3.8/site-packages (from matplotlib->catboost) (2.4.7)\n",
      "Requirement already satisfied: certifi>=2020.06.20 in /home/qazybek/.local/lib/python3.8/site-packages (from matplotlib->catboost) (2020.6.20)\n",
      "Requirement already satisfied: kiwisolver>=1.0.1 in /home/qazybek/.local/lib/python3.8/site-packages (from matplotlib->catboost) (1.2.0)\n",
      "Requirement already satisfied: cycler>=0.10 in /home/qazybek/.local/lib/python3.8/site-packages (from matplotlib->catboost) (0.10.0)\n",
      "Requirement already satisfied: pillow>=6.2.0 in /home/qazybek/.local/lib/python3.8/site-packages (from matplotlib->catboost) (8.0.0)\n",
      "Requirement already satisfied: retrying>=1.3.3 in /home/qazybek/miniconda3/envs/ds/lib/python3.8/site-packages (from plotly->catboost) (1.3.3)\n"
     ]
    }
   ],
   "source": [
    "!pip install catboost"
   ]
  },
  {
   "cell_type": "code",
   "execution_count": 2,
   "metadata": {},
   "outputs": [],
   "source": [
    "import pandas as pd\n",
    "import numpy as np\n",
    "from sklearn.metrics import mean_squared_error as mse\n",
    "from sklearn.model_selection import train_test_split\n",
    "from catboost import CatBoostRegressor"
   ]
  },
  {
   "cell_type": "code",
   "execution_count": 10,
   "metadata": {},
   "outputs": [
    {
     "data": {
      "text/html": [
       "<div>\n",
       "<style scoped>\n",
       "    .dataframe tbody tr th:only-of-type {\n",
       "        vertical-align: middle;\n",
       "    }\n",
       "\n",
       "    .dataframe tbody tr th {\n",
       "        vertical-align: top;\n",
       "    }\n",
       "\n",
       "    .dataframe thead th {\n",
       "        text-align: right;\n",
       "    }\n",
       "</style>\n",
       "<table border=\"1\" class=\"dataframe\">\n",
       "  <thead>\n",
       "    <tr style=\"text-align: right;\">\n",
       "      <th></th>\n",
       "      <th>MSSubClass</th>\n",
       "      <th>MSZoning</th>\n",
       "      <th>LotArea</th>\n",
       "      <th>Street</th>\n",
       "      <th>LotShape</th>\n",
       "      <th>LandContour</th>\n",
       "      <th>Utilities</th>\n",
       "      <th>LotConfig</th>\n",
       "      <th>LandSlope</th>\n",
       "      <th>Neighborhood</th>\n",
       "      <th>...</th>\n",
       "      <th>EnclosedPorch</th>\n",
       "      <th>3SsnPorch</th>\n",
       "      <th>ScreenPorch</th>\n",
       "      <th>PoolArea</th>\n",
       "      <th>MiscVal</th>\n",
       "      <th>MoSold</th>\n",
       "      <th>YrSold</th>\n",
       "      <th>SaleType</th>\n",
       "      <th>SaleCondition</th>\n",
       "      <th>TotalSF</th>\n",
       "    </tr>\n",
       "    <tr>\n",
       "      <th>Id</th>\n",
       "      <th></th>\n",
       "      <th></th>\n",
       "      <th></th>\n",
       "      <th></th>\n",
       "      <th></th>\n",
       "      <th></th>\n",
       "      <th></th>\n",
       "      <th></th>\n",
       "      <th></th>\n",
       "      <th></th>\n",
       "      <th></th>\n",
       "      <th></th>\n",
       "      <th></th>\n",
       "      <th></th>\n",
       "      <th></th>\n",
       "      <th></th>\n",
       "      <th></th>\n",
       "      <th></th>\n",
       "      <th></th>\n",
       "      <th></th>\n",
       "      <th></th>\n",
       "    </tr>\n",
       "  </thead>\n",
       "  <tbody>\n",
       "    <tr>\n",
       "      <th>1</th>\n",
       "      <td>0.067355</td>\n",
       "      <td>RL</td>\n",
       "      <td>-0.216437</td>\n",
       "      <td>Pave</td>\n",
       "      <td>Reg</td>\n",
       "      <td>Lvl</td>\n",
       "      <td>AllPub</td>\n",
       "      <td>Inside</td>\n",
       "      <td>Gtl</td>\n",
       "      <td>CollgCr</td>\n",
       "      <td>...</td>\n",
       "      <td>-0.359740</td>\n",
       "      <td>-0.103366</td>\n",
       "      <td>-0.286041</td>\n",
       "      <td>-0.060447</td>\n",
       "      <td>-0.089623</td>\n",
       "      <td>-1.553332</td>\n",
       "      <td>0.157449</td>\n",
       "      <td>WD</td>\n",
       "      <td>Normal</td>\n",
       "      <td>0.445322</td>\n",
       "    </tr>\n",
       "    <tr>\n",
       "      <th>2</th>\n",
       "      <td>-0.873272</td>\n",
       "      <td>RL</td>\n",
       "      <td>-0.069108</td>\n",
       "      <td>Pave</td>\n",
       "      <td>Reg</td>\n",
       "      <td>Lvl</td>\n",
       "      <td>AllPub</td>\n",
       "      <td>FR2</td>\n",
       "      <td>Gtl</td>\n",
       "      <td>Veenker</td>\n",
       "      <td>...</td>\n",
       "      <td>-0.359740</td>\n",
       "      <td>-0.103366</td>\n",
       "      <td>-0.286041</td>\n",
       "      <td>-0.060447</td>\n",
       "      <td>-0.089623</td>\n",
       "      <td>-0.447384</td>\n",
       "      <td>-0.602948</td>\n",
       "      <td>WD</td>\n",
       "      <td>Normal</td>\n",
       "      <td>-0.165484</td>\n",
       "    </tr>\n",
       "    <tr>\n",
       "      <th>3</th>\n",
       "      <td>0.067355</td>\n",
       "      <td>RL</td>\n",
       "      <td>0.142276</td>\n",
       "      <td>Pave</td>\n",
       "      <td>IR1</td>\n",
       "      <td>Lvl</td>\n",
       "      <td>AllPub</td>\n",
       "      <td>Inside</td>\n",
       "      <td>Gtl</td>\n",
       "      <td>CollgCr</td>\n",
       "      <td>...</td>\n",
       "      <td>-0.359740</td>\n",
       "      <td>-0.103366</td>\n",
       "      <td>-0.286041</td>\n",
       "      <td>-0.060447</td>\n",
       "      <td>-0.089623</td>\n",
       "      <td>1.027214</td>\n",
       "      <td>0.157449</td>\n",
       "      <td>WD</td>\n",
       "      <td>Normal</td>\n",
       "      <td>0.700857</td>\n",
       "    </tr>\n",
       "    <tr>\n",
       "      <th>4</th>\n",
       "      <td>0.302511</td>\n",
       "      <td>RL</td>\n",
       "      <td>-0.075514</td>\n",
       "      <td>Pave</td>\n",
       "      <td>IR1</td>\n",
       "      <td>Lvl</td>\n",
       "      <td>AllPub</td>\n",
       "      <td>Corner</td>\n",
       "      <td>Gtl</td>\n",
       "      <td>Crawfor</td>\n",
       "      <td>...</td>\n",
       "      <td>3.873564</td>\n",
       "      <td>-0.103366</td>\n",
       "      <td>-0.286041</td>\n",
       "      <td>-0.060447</td>\n",
       "      <td>-0.089623</td>\n",
       "      <td>-1.553332</td>\n",
       "      <td>-1.363345</td>\n",
       "      <td>WD</td>\n",
       "      <td>Abnorml</td>\n",
       "      <td>0.383256</td>\n",
       "    </tr>\n",
       "    <tr>\n",
       "      <th>5</th>\n",
       "      <td>0.067355</td>\n",
       "      <td>RL</td>\n",
       "      <td>0.527891</td>\n",
       "      <td>Pave</td>\n",
       "      <td>IR1</td>\n",
       "      <td>Lvl</td>\n",
       "      <td>AllPub</td>\n",
       "      <td>FR2</td>\n",
       "      <td>Gtl</td>\n",
       "      <td>NoRidge</td>\n",
       "      <td>...</td>\n",
       "      <td>-0.359740</td>\n",
       "      <td>-0.103366</td>\n",
       "      <td>-0.286041</td>\n",
       "      <td>-0.060447</td>\n",
       "      <td>-0.089623</td>\n",
       "      <td>2.133162</td>\n",
       "      <td>0.157449</td>\n",
       "      <td>WD</td>\n",
       "      <td>Normal</td>\n",
       "      <td>1.908005</td>\n",
       "    </tr>\n",
       "  </tbody>\n",
       "</table>\n",
       "<p>5 rows × 74 columns</p>\n",
       "</div>"
      ],
      "text/plain": [
       "    MSSubClass MSZoning   LotArea Street LotShape LandContour Utilities  \\\n",
       "Id                                                                        \n",
       "1     0.067355       RL -0.216437   Pave      Reg         Lvl    AllPub   \n",
       "2    -0.873272       RL -0.069108   Pave      Reg         Lvl    AllPub   \n",
       "3     0.067355       RL  0.142276   Pave      IR1         Lvl    AllPub   \n",
       "4     0.302511       RL -0.075514   Pave      IR1         Lvl    AllPub   \n",
       "5     0.067355       RL  0.527891   Pave      IR1         Lvl    AllPub   \n",
       "\n",
       "   LotConfig LandSlope Neighborhood  ... EnclosedPorch 3SsnPorch ScreenPorch  \\\n",
       "Id                                   ...                                       \n",
       "1     Inside       Gtl      CollgCr  ...     -0.359740 -0.103366   -0.286041   \n",
       "2        FR2       Gtl      Veenker  ...     -0.359740 -0.103366   -0.286041   \n",
       "3     Inside       Gtl      CollgCr  ...     -0.359740 -0.103366   -0.286041   \n",
       "4     Corner       Gtl      Crawfor  ...      3.873564 -0.103366   -0.286041   \n",
       "5        FR2       Gtl      NoRidge  ...     -0.359740 -0.103366   -0.286041   \n",
       "\n",
       "    PoolArea   MiscVal    MoSold    YrSold  SaleType SaleCondition   TotalSF  \n",
       "Id                                                                            \n",
       "1  -0.060447 -0.089623 -1.553332  0.157449        WD        Normal  0.445322  \n",
       "2  -0.060447 -0.089623 -0.447384 -0.602948        WD        Normal -0.165484  \n",
       "3  -0.060447 -0.089623  1.027214  0.157449        WD        Normal  0.700857  \n",
       "4  -0.060447 -0.089623 -1.553332 -1.363345        WD       Abnorml  0.383256  \n",
       "5  -0.060447 -0.089623  2.133162  0.157449        WD        Normal  1.908005  \n",
       "\n",
       "[5 rows x 74 columns]"
      ]
     },
     "execution_count": 10,
     "metadata": {},
     "output_type": "execute_result"
    }
   ],
   "source": [
    "train_data = pd.read_csv('../prep_data/prep_train.csv', index_col='Id')\n",
    "train_data.head()"
   ]
  },
  {
   "cell_type": "code",
   "execution_count": 11,
   "metadata": {},
   "outputs": [
    {
     "data": {
      "text/html": [
       "<div>\n",
       "<style scoped>\n",
       "    .dataframe tbody tr th:only-of-type {\n",
       "        vertical-align: middle;\n",
       "    }\n",
       "\n",
       "    .dataframe tbody tr th {\n",
       "        vertical-align: top;\n",
       "    }\n",
       "\n",
       "    .dataframe thead th {\n",
       "        text-align: right;\n",
       "    }\n",
       "</style>\n",
       "<table border=\"1\" class=\"dataframe\">\n",
       "  <thead>\n",
       "    <tr style=\"text-align: right;\">\n",
       "      <th></th>\n",
       "      <th>MSSubClass</th>\n",
       "      <th>MSZoning</th>\n",
       "      <th>LotArea</th>\n",
       "      <th>Street</th>\n",
       "      <th>LotShape</th>\n",
       "      <th>LandContour</th>\n",
       "      <th>Utilities</th>\n",
       "      <th>LotConfig</th>\n",
       "      <th>LandSlope</th>\n",
       "      <th>Neighborhood</th>\n",
       "      <th>...</th>\n",
       "      <th>EnclosedPorch</th>\n",
       "      <th>3SsnPorch</th>\n",
       "      <th>ScreenPorch</th>\n",
       "      <th>PoolArea</th>\n",
       "      <th>MiscVal</th>\n",
       "      <th>MoSold</th>\n",
       "      <th>YrSold</th>\n",
       "      <th>SaleType</th>\n",
       "      <th>SaleCondition</th>\n",
       "      <th>TotalSF</th>\n",
       "    </tr>\n",
       "    <tr>\n",
       "      <th>Id</th>\n",
       "      <th></th>\n",
       "      <th></th>\n",
       "      <th></th>\n",
       "      <th></th>\n",
       "      <th></th>\n",
       "      <th></th>\n",
       "      <th></th>\n",
       "      <th></th>\n",
       "      <th></th>\n",
       "      <th></th>\n",
       "      <th></th>\n",
       "      <th></th>\n",
       "      <th></th>\n",
       "      <th></th>\n",
       "      <th></th>\n",
       "      <th></th>\n",
       "      <th></th>\n",
       "      <th></th>\n",
       "      <th></th>\n",
       "      <th></th>\n",
       "      <th></th>\n",
       "    </tr>\n",
       "  </thead>\n",
       "  <tbody>\n",
       "    <tr>\n",
       "      <th>1461</th>\n",
       "      <td>-0.873272</td>\n",
       "      <td>RH</td>\n",
       "      <td>0.189933</td>\n",
       "      <td>Pave</td>\n",
       "      <td>Reg</td>\n",
       "      <td>Lvl</td>\n",
       "      <td>AllPub</td>\n",
       "      <td>Inside</td>\n",
       "      <td>Gtl</td>\n",
       "      <td>NAmes</td>\n",
       "      <td>...</td>\n",
       "      <td>-0.35974</td>\n",
       "      <td>-0.103366</td>\n",
       "      <td>1.849478</td>\n",
       "      <td>-0.060447</td>\n",
       "      <td>-0.089623</td>\n",
       "      <td>-0.078735</td>\n",
       "      <td>1.678244</td>\n",
       "      <td>WD</td>\n",
       "      <td>Normal</td>\n",
       "      <td>-1.420487</td>\n",
       "    </tr>\n",
       "    <tr>\n",
       "      <th>1462</th>\n",
       "      <td>-0.873272</td>\n",
       "      <td>RL</td>\n",
       "      <td>0.528788</td>\n",
       "      <td>Pave</td>\n",
       "      <td>IR1</td>\n",
       "      <td>Lvl</td>\n",
       "      <td>AllPub</td>\n",
       "      <td>Corner</td>\n",
       "      <td>Gtl</td>\n",
       "      <td>NAmes</td>\n",
       "      <td>...</td>\n",
       "      <td>-0.35974</td>\n",
       "      <td>-0.103366</td>\n",
       "      <td>-0.286041</td>\n",
       "      <td>-0.060447</td>\n",
       "      <td>21.936890</td>\n",
       "      <td>-0.078735</td>\n",
       "      <td>1.678244</td>\n",
       "      <td>WD</td>\n",
       "      <td>Normal</td>\n",
       "      <td>0.052469</td>\n",
       "    </tr>\n",
       "    <tr>\n",
       "      <th>1463</th>\n",
       "      <td>0.067355</td>\n",
       "      <td>RL</td>\n",
       "      <td>0.472803</td>\n",
       "      <td>Pave</td>\n",
       "      <td>IR1</td>\n",
       "      <td>Lvl</td>\n",
       "      <td>AllPub</td>\n",
       "      <td>Inside</td>\n",
       "      <td>Gtl</td>\n",
       "      <td>Gilbert</td>\n",
       "      <td>...</td>\n",
       "      <td>-0.35974</td>\n",
       "      <td>-0.103366</td>\n",
       "      <td>-0.286041</td>\n",
       "      <td>-0.060447</td>\n",
       "      <td>-0.089623</td>\n",
       "      <td>-1.184683</td>\n",
       "      <td>1.678244</td>\n",
       "      <td>WD</td>\n",
       "      <td>Normal</td>\n",
       "      <td>0.343520</td>\n",
       "    </tr>\n",
       "    <tr>\n",
       "      <th>1464</th>\n",
       "      <td>0.067355</td>\n",
       "      <td>RL</td>\n",
       "      <td>-0.020682</td>\n",
       "      <td>Pave</td>\n",
       "      <td>IR1</td>\n",
       "      <td>Lvl</td>\n",
       "      <td>AllPub</td>\n",
       "      <td>Inside</td>\n",
       "      <td>Gtl</td>\n",
       "      <td>Gilbert</td>\n",
       "      <td>...</td>\n",
       "      <td>-0.35974</td>\n",
       "      <td>-0.103366</td>\n",
       "      <td>-0.286041</td>\n",
       "      <td>-0.060447</td>\n",
       "      <td>-0.089623</td>\n",
       "      <td>-0.078735</td>\n",
       "      <td>1.678244</td>\n",
       "      <td>WD</td>\n",
       "      <td>Normal</td>\n",
       "      <td>0.282760</td>\n",
       "    </tr>\n",
       "    <tr>\n",
       "      <th>1465</th>\n",
       "      <td>1.478294</td>\n",
       "      <td>RL</td>\n",
       "      <td>-0.657781</td>\n",
       "      <td>Pave</td>\n",
       "      <td>IR1</td>\n",
       "      <td>HLS</td>\n",
       "      <td>AllPub</td>\n",
       "      <td>Inside</td>\n",
       "      <td>Gtl</td>\n",
       "      <td>StoneBr</td>\n",
       "      <td>...</td>\n",
       "      <td>-0.35974</td>\n",
       "      <td>-0.103366</td>\n",
       "      <td>2.276582</td>\n",
       "      <td>-0.060447</td>\n",
       "      <td>-0.089623</td>\n",
       "      <td>-1.921981</td>\n",
       "      <td>1.678244</td>\n",
       "      <td>WD</td>\n",
       "      <td>Normal</td>\n",
       "      <td>-0.106704</td>\n",
       "    </tr>\n",
       "  </tbody>\n",
       "</table>\n",
       "<p>5 rows × 74 columns</p>\n",
       "</div>"
      ],
      "text/plain": [
       "      MSSubClass MSZoning   LotArea Street LotShape LandContour Utilities  \\\n",
       "Id                                                                          \n",
       "1461   -0.873272       RH  0.189933   Pave      Reg         Lvl    AllPub   \n",
       "1462   -0.873272       RL  0.528788   Pave      IR1         Lvl    AllPub   \n",
       "1463    0.067355       RL  0.472803   Pave      IR1         Lvl    AllPub   \n",
       "1464    0.067355       RL -0.020682   Pave      IR1         Lvl    AllPub   \n",
       "1465    1.478294       RL -0.657781   Pave      IR1         HLS    AllPub   \n",
       "\n",
       "     LotConfig LandSlope Neighborhood  ... EnclosedPorch 3SsnPorch  \\\n",
       "Id                                     ...                           \n",
       "1461    Inside       Gtl        NAmes  ...      -0.35974 -0.103366   \n",
       "1462    Corner       Gtl        NAmes  ...      -0.35974 -0.103366   \n",
       "1463    Inside       Gtl      Gilbert  ...      -0.35974 -0.103366   \n",
       "1464    Inside       Gtl      Gilbert  ...      -0.35974 -0.103366   \n",
       "1465    Inside       Gtl      StoneBr  ...      -0.35974 -0.103366   \n",
       "\n",
       "     ScreenPorch  PoolArea    MiscVal    MoSold    YrSold  SaleType  \\\n",
       "Id                                                                    \n",
       "1461    1.849478 -0.060447  -0.089623 -0.078735  1.678244        WD   \n",
       "1462   -0.286041 -0.060447  21.936890 -0.078735  1.678244        WD   \n",
       "1463   -0.286041 -0.060447  -0.089623 -1.184683  1.678244        WD   \n",
       "1464   -0.286041 -0.060447  -0.089623 -0.078735  1.678244        WD   \n",
       "1465    2.276582 -0.060447  -0.089623 -1.921981  1.678244        WD   \n",
       "\n",
       "     SaleCondition   TotalSF  \n",
       "Id                            \n",
       "1461        Normal -1.420487  \n",
       "1462        Normal  0.052469  \n",
       "1463        Normal  0.343520  \n",
       "1464        Normal  0.282760  \n",
       "1465        Normal -0.106704  \n",
       "\n",
       "[5 rows x 74 columns]"
      ]
     },
     "execution_count": 11,
     "metadata": {},
     "output_type": "execute_result"
    }
   ],
   "source": [
    "test_data = pd.read_csv('../prep_data/prep_test.csv', index_col='Id')\n",
    "test_data.head()"
   ]
  },
  {
   "cell_type": "code",
   "execution_count": 12,
   "metadata": {},
   "outputs": [
    {
     "data": {
      "text/html": [
       "<div>\n",
       "<style scoped>\n",
       "    .dataframe tbody tr th:only-of-type {\n",
       "        vertical-align: middle;\n",
       "    }\n",
       "\n",
       "    .dataframe tbody tr th {\n",
       "        vertical-align: top;\n",
       "    }\n",
       "\n",
       "    .dataframe thead th {\n",
       "        text-align: right;\n",
       "    }\n",
       "</style>\n",
       "<table border=\"1\" class=\"dataframe\">\n",
       "  <thead>\n",
       "    <tr style=\"text-align: right;\">\n",
       "      <th></th>\n",
       "      <th>SalePrice</th>\n",
       "    </tr>\n",
       "    <tr>\n",
       "      <th>Id</th>\n",
       "      <th></th>\n",
       "    </tr>\n",
       "  </thead>\n",
       "  <tbody>\n",
       "    <tr>\n",
       "      <th>1</th>\n",
       "      <td>12.247694</td>\n",
       "    </tr>\n",
       "    <tr>\n",
       "      <th>2</th>\n",
       "      <td>12.109011</td>\n",
       "    </tr>\n",
       "    <tr>\n",
       "      <th>3</th>\n",
       "      <td>12.317167</td>\n",
       "    </tr>\n",
       "    <tr>\n",
       "      <th>4</th>\n",
       "      <td>11.849398</td>\n",
       "    </tr>\n",
       "    <tr>\n",
       "      <th>5</th>\n",
       "      <td>12.429216</td>\n",
       "    </tr>\n",
       "  </tbody>\n",
       "</table>\n",
       "</div>"
      ],
      "text/plain": [
       "    SalePrice\n",
       "Id           \n",
       "1   12.247694\n",
       "2   12.109011\n",
       "3   12.317167\n",
       "4   11.849398\n",
       "5   12.429216"
      ]
     },
     "execution_count": 12,
     "metadata": {},
     "output_type": "execute_result"
    }
   ],
   "source": [
    "train_target = pd.read_csv('../prep_data/prep_target.csv', index_col='Id')\n",
    "train_target.head()"
   ]
  },
  {
   "cell_type": "code",
   "execution_count": 13,
   "metadata": {},
   "outputs": [],
   "source": [
    "cat_cols = train_data.dtypes[train_data.dtypes == 'object'].index"
   ]
  },
  {
   "cell_type": "code",
   "execution_count": null,
   "metadata": {},
   "outputs": [],
   "source": [
    "# selected_cols = ['OverallQual', 'GrLivArea', 'GarageArea', 'TotalBsmtSF', 'FullBath', 'YearBuilt', \n",
    "#                  'MSSubClass', 'OverallCond', 'YrSold', 'MoSold', 'TotalSF']"
   ]
  },
  {
   "cell_type": "code",
   "execution_count": 16,
   "metadata": {},
   "outputs": [],
   "source": [
    "X_train, X_test, y_train, y_test = train_test_split(train_data, train_target, test_size=0.2, random_state=2021)"
   ]
  },
  {
   "cell_type": "code",
   "execution_count": 26,
   "metadata": {},
   "outputs": [],
   "source": [
    "import seaborn as sns\n",
    "import matplotlib.pyplot as plt"
   ]
  },
  {
   "cell_type": "markdown",
   "metadata": {},
   "source": [
    "Distributions of the y_train and y_test are quite the same"
   ]
  },
  {
   "cell_type": "code",
   "execution_count": 30,
   "metadata": {},
   "outputs": [
    {
     "data": {
      "image/png": "[encoded data removed]",
      "text/plain": [
       "<Figure size 864x360 with 2 Axes>"
      ]
     },
     "metadata": {
      "needs_background": "light"
     },
     "output_type": "display_data"
    }
   ],
   "source": [
    "fig, (ax1, ax2) = plt.subplots(1, 2, figsize=(12, 5))\n",
    "\n",
    "sns.histplot(y_train, ax=ax1, kde=True);\n",
    "sns.histplot(y_test, ax=ax2, kde=True);"
   ]
  },
  {
   "cell_type": "markdown",
   "metadata": {},
   "source": [
    "## observe train and test set target variable distributions"
   ]
  },
  {
   "cell_type": "code",
   "execution_count": 18,
   "metadata": {},
   "outputs": [
    {
     "name": "stdout",
     "output_type": "stream",
     "text": [
      "Learning rate set to 0.040112\n",
      "0:\tlearn: 0.3940690\ttotal: 67.1ms\tremaining: 1m 7s\n",
      "100:\tlearn: 0.1187020\ttotal: 1.83s\tremaining: 16.3s\n",
      "200:\tlearn: 0.0962736\ttotal: 3.65s\tremaining: 14.5s\n",
      "300:\tlearn: 0.0855582\ttotal: 5.45s\tremaining: 12.6s\n",
      "400:\tlearn: 0.0782852\ttotal: 7.32s\tremaining: 10.9s\n",
      "500:\tlearn: 0.0722904\ttotal: 9.08s\tremaining: 9.04s\n",
      "600:\tlearn: 0.0667563\ttotal: 11s\tremaining: 7.29s\n",
      "700:\tlearn: 0.0622645\ttotal: 12.7s\tremaining: 5.42s\n",
      "800:\tlearn: 0.0583385\ttotal: 14.4s\tremaining: 3.59s\n",
      "900:\tlearn: 0.0545758\ttotal: 16.3s\tremaining: 1.79s\n",
      "999:\tlearn: 0.0511365\ttotal: 18.1s\tremaining: 0us\n"
     ]
    },
    {
     "data": {
      "text/plain": [
       "<catboost.core.CatBoostRegressor at 0x7f17f90e9f10>"
      ]
     },
     "execution_count": 18,
     "metadata": {},
     "output_type": "execute_result"
    }
   ],
   "source": [
    "model = CatBoostRegressor()\n",
    "model.fit(X_train, y_train, cat_features=cat_cols, verbose=100)"
   ]
  },
  {
   "cell_type": "code",
   "execution_count": 19,
   "metadata": {},
   "outputs": [
    {
     "name": "stdout",
     "output_type": "stream",
     "text": [
      "Root mean squared error is: 0.10862221767122968\n"
     ]
    }
   ],
   "source": [
    "y_pred = model.predict(X_test)\n",
    "\n",
    "rmse = np.sqrt(mse(y_test, y_pred))\n",
    "print(f\"Root mean squared error is: {rmse}\")"
   ]
  },
  {
   "cell_type": "markdown",
   "metadata": {},
   "source": [
    "Our first score is about **10%** from the mean price which is **normal**"
   ]
  },
  {
   "cell_type": "code",
   "execution_count": 24,
   "metadata": {},
   "outputs": [
    {
     "data": {
      "text/plain": [
       "SalePrice    0.009051\n",
       "dtype: float64"
      ]
     },
     "execution_count": 24,
     "metadata": {},
     "output_type": "execute_result"
    }
   ],
   "source": [
    "rmse / y_test.mean()"
   ]
  },
  {
   "cell_type": "code",
   "execution_count": 21,
   "metadata": {},
   "outputs": [],
   "source": [
    "y_pred = model.predict(test_data)"
   ]
  },
  {
   "cell_type": "code",
   "execution_count": 41,
   "metadata": {},
   "outputs": [
    {
     "data": {
      "text/plain": [
       "[('TotalSF', 20.144169782891577),\n",
       " ('OverallQual', 13.494387054653078),\n",
       " ('GrLivArea', 6.502163603477642),\n",
       " ('ExterQual', 3.833586421035224),\n",
       " ('YearBuilt', 3.6404798998358285),\n",
       " ('1stFlrSF', 2.8371252405054106),\n",
       " ('OverallCond', 2.804137471312043),\n",
       " ('GarageCars', 2.759158504047089),\n",
       " ('MSZoning', 2.6663353968166454),\n",
       " ('LotArea', 2.6617729052196513)]"
      ]
     },
     "execution_count": 41,
     "metadata": {},
     "output_type": "execute_result"
    }
   ],
   "source": [
    "importances = {}\n",
    "\n",
    "for score, col in zip(model.get_feature_importance(), X_train.columns):\n",
    "    importances[col] = score\n",
    "    \n",
    "# print top 10 features\n",
    "sorted(importances.items(), key=lambda x: x[1], reverse=True)[:10]"
   ]
  },
  {
   "cell_type": "code",
   "execution_count": 43,
   "metadata": {
    "collapsed": true,
    "jupyter": {
     "outputs_hidden": true
    },
    "tags": []
   },
   "outputs": [
    {
     "name": "stdout",
     "output_type": "stream",
     "text": [
      "Collecting shap\n",
      "  Downloading shap-0.39.0.tar.gz (356 kB)\n",
      "\u001b[K     |████████████████████████████████| 356 kB 1.6 MB/s eta 0:00:01\n",
      "\u001b[?25hRequirement already satisfied: numpy in /home/qazybek/.local/lib/python3.8/site-packages (from shap) (1.20.2)\n",
      "Requirement already satisfied: scipy in /home/qazybek/.local/lib/python3.8/site-packages (from shap) (1.4.1)\n",
      "Requirement already satisfied: scikit-learn in /home/qazybek/.local/lib/python3.8/site-packages (from shap) (0.23.2)\n",
      "Requirement already satisfied: pandas in /home/qazybek/.local/lib/python3.8/site-packages (from shap) (1.1.1)\n",
      "Collecting tqdm>4.25.0\n",
      "  Using cached tqdm-4.61.0-py2.py3-none-any.whl (75 kB)\n",
      "Collecting slicer==0.0.7\n",
      "  Downloading slicer-0.0.7-py3-none-any.whl (14 kB)\n",
      "Requirement already satisfied: numba in /home/qazybek/.local/lib/python3.8/site-packages (from shap) (0.53.1)\n",
      "Collecting cloudpickle\n",
      "  Using cached cloudpickle-1.6.0-py3-none-any.whl (23 kB)\n",
      "Requirement already satisfied: threadpoolctl>=2.0.0 in /home/qazybek/.local/lib/python3.8/site-packages (from scikit-learn->shap) (2.1.0)\n",
      "Requirement already satisfied: joblib>=0.11 in /home/qazybek/.local/lib/python3.8/site-packages (from scikit-learn->shap) (0.16.0)\n",
      "Requirement already satisfied: python-dateutil>=2.7.3 in /home/qazybek/.local/lib/python3.8/site-packages (from pandas->shap) (2.8.1)\n",
      "Requirement already satisfied: pytz>=2017.2 in /home/qazybek/miniconda3/envs/ds/lib/python3.8/site-packages (from pandas->shap) (2021.1)\n",
      "Requirement already satisfied: llvmlite<0.37,>=0.36.0rc1 in /home/qazybek/.local/lib/python3.8/site-packages (from numba->shap) (0.36.0)\n",
      "Requirement already satisfied: setuptools in /home/qazybek/.local/lib/python3.8/site-packages (from numba->shap) (50.0.3)\n",
      "Requirement already satisfied: six>=1.5 in /home/qazybek/.local/lib/python3.8/site-packages (from python-dateutil>=2.7.3->pandas->shap) (1.15.0)\n",
      "Building wheels for collected packages: shap\n",
      "  Building wheel for shap (setup.py) ... \u001b[?25ldone\n",
      "\u001b[?25h  Created wheel for shap: filename=shap-0.39.0-cp38-cp38-linux_x86_64.whl size=502584 sha256=6804761836ed21a0dfa4bd2d81dec00e769ba2715027c40a0d34474525ff1f55\n",
      "  Stored in directory: /home/qazybek/.cache/pip/wheels/3d/c9/06/734ed80d6d61fad331974bf62017b4ea6b33488082b9f5e67e\n",
      "Successfully built shap\n",
      "Installing collected packages: tqdm, slicer, cloudpickle, shap\n",
      "Successfully installed cloudpickle-1.6.0 shap-0.39.0 slicer-0.0.7 tqdm-4.61.0\n"
     ]
    }
   ],
   "source": [
    "!pip install shap"
   ]
  },
  {
   "cell_type": "code",
   "execution_count": 44,
   "metadata": {},
   "outputs": [],
   "source": [
    "import shap"
   ]
  },
  {
   "cell_type": "code",
   "execution_count": 46,
   "metadata": {},
   "outputs": [
    {
     "data": {
      "image/png": "[encoded data removed]",
      "text/plain": [
       "<Figure size 576x684 with 2 Axes>"
      ]
     },
     "metadata": {
      "needs_background": "light"
     },
     "output_type": "display_data"
    }
   ],
   "source": [
    "explainer = shap.TreeExplainer(model)\n",
    "shap_values = explainer.shap_values(X_test)\n",
    "\n",
    "shap.summary_plot(shap_values, X_test)"
   ]
  },
  {
   "cell_type": "markdown",
   "metadata": {},
   "source": [
    "Following features according to SHAP summary plot have great impact on model:\n",
    "- `GarageArea`\n",
    "- `TotalBsmtSF`\n",
    "- `1stFlrSF`\n",
    "- `BsmtFinSF1`\n",
    "- `YearRemodAdd`\n",
    "- `YearBuilt`\n",
    "- `LotArea`\n",
    "- `GrLivArea`\n",
    "- `GarageCars`\n",
    "- `OverallQual`\n",
    "- `TotalSF`\n",
    "\n",
    "---\n",
    "\n",
    "As we have previously mentioned(in the eda.ipynb) mainly features with high correlation with target variable will have greater impact.\\\n",
    "However, we see that there are many other features which have contributed to model performance. "
   ]
  },
  {
   "cell_type": "code",
   "execution_count": 22,
   "metadata": {},
   "outputs": [],
   "source": [
    "# my_submission = pd.DataFrame({'Id': test_data.index, 'SalePrice': y_pred})\n",
    "# my_submission.to_csv('../submission/submission3.csv', index=False)"
   ]
  },
  {
   "cell_type": "code",
   "execution_count": 23,
   "metadata": {},
   "outputs": [],
   "source": [
    "# model.save_model(fname='../submission/model3')"
   ]
  }
 ],
 "metadata": {
  "kernelspec": {
   "display_name": "ds",
   "language": "python",
   "name": "ds"
  },
  "language_info": {
   "codemirror_mode": {
    "name": "ipython",
    "version": 3
   },
   "file_extension": ".py",
   "mimetype": "text/x-python",
   "name": "python",
   "nbconvert_exporter": "python",
   "pygments_lexer": "ipython3",
   "version": "3.8.5"
  }
 },
 "nbformat": 4,
 "nbformat_minor": 5
}
